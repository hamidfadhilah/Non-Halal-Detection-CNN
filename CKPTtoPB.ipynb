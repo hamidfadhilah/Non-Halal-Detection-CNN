{
 "cells": [
  {
   "cell_type": "code",
   "execution_count": null,
   "metadata": {},
   "outputs": [],
   "source": [
    "\"\"\"\n",
    "Convert model.ckpt to model.pb\n",
    "\"\"\"\n",
    "\n",
    "from __future__ import absolute_import\n",
    "from __future__ import division\n",
    "from __future__ import print_function\n",
    "\n",
    "import tensorflow as tf\n",
    "from tensorflow.python.framework import graph_util\n",
    "\n",
    "# create a session\n",
    "sess = tf.Session()\n",
    "\n",
    "# import best model\n",
    "saver = tf.train.import_meta_graph('model.ckpt.meta') # graph\n",
    "saver.restore(sess, 'model.ckpt') # variables\n",
    "\n",
    "# get graph definition\n",
    "gd = sess.graph.as_graph_def()\n",
    "\n",
    "# fix batch norm nodes\n",
    "for node in gd.node:\n",
    "  if node.op == 'RefSwitch':\n",
    "    node.op = 'Switch'\n",
    "    for index in xrange(len(node.input)):\n",
    "      if 'moving_' in node.input[index]:\n",
    "        node.input[index] = node.input[index] + '/read'\n",
    "  elif node.op == 'AssignSub':\n",
    "    node.op = 'Sub'\n",
    "    if 'use_locking' in node.attr: del node.attr['use_locking']\n",
    "\n",
    "# generate protobuf\n",
    "converted_graph_def = graph_util.convert_variables_to_constants(sess, gd, [\"logits_set\"])\n",
    "tf.train.write_graph(converted_graph_def, '/path/to/save/', 'model.pb', as_text=False)"
   ]
  }
 ],
 "metadata": {
  "kernelspec": {
   "display_name": "Python 3",
   "language": "python",
   "name": "python3"
  },
  "language_info": {
   "codemirror_mode": {
    "name": "ipython",
    "version": 3
   },
   "file_extension": ".py",
   "mimetype": "text/x-python",
   "name": "python",
   "nbconvert_exporter": "python",
   "pygments_lexer": "ipython3",
   "version": "3.5.5"
  }
 },
 "nbformat": 4,
 "nbformat_minor": 2
}

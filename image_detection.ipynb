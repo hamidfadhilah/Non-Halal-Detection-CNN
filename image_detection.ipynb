{
 "cells": [
  {
   "cell_type": "code",
   "execution_count": null,
   "metadata": {
    "collapsed": true
   },
   "outputs": [],
   "source": [
    "import PIL\n",
    "import numpy as np\n",
    "from PIL import Image\n",
    "\n",
    "\n",
    "# Creates the sliding window\n",
    "def sliding_window(path):\n",
    "    from itertools import islice\n",
    "\n",
    "    img_arr = np.asarray(PIL.Image.open(path)).flatten()\n",
    "\n",
    "    def window(seq, n):\n",
    "        it = iter(seq)\n",
    "        result = tuple(islice(it, n))\n",
    "        if len(result) == n:\n",
    "            yield result\n",
    "        for elem in it:\n",
    "            result = result[1:] + (elem,)\n",
    "            yield result\n",
    "\n",
    "    slides = []\n",
    "\n",
    "    # Removes images that only have white pixels.\n",
    "    for w in window(img_arr, 400):\n",
    "        count_white = w.count(255)\n",
    "        if count_white < 400:\n",
    "            slides.append(np.array(w))\n",
    "\n",
    "    slide_array = np.array(slides)\n",
    "\n",
    "    return slide_array\n",
    "\n"
   ]
  }
 ],
 "metadata": {
  "kernelspec": {
   "display_name": "Python 3",
   "language": "python",
   "name": "python3"
  },
  "language_info": {
   "codemirror_mode": {
    "name": "ipython",
    "version": 3
   },
   "file_extension": ".py",
   "mimetype": "text/x-python",
   "name": "python",
   "nbconvert_exporter": "python",
   "pygments_lexer": "ipython3",
   "version": "3.5.5"
  }
 },
 "nbformat": 4,
 "nbformat_minor": 2
}

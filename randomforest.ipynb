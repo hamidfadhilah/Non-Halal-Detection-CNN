{
 "cells": [
  {
   "cell_type": "code",
   "execution_count": 1,
   "metadata": {},
   "outputs": [
    {
     "name": "stderr",
     "output_type": "stream",
     "text": [
      "C:\\Users\\COEGIN\\Anaconda3\\envs\\tensorflow\\lib\\site-packages\\h5py\\__init__.py:36: FutureWarning: Conversion of the second argument of issubdtype from `float` to `np.floating` is deprecated. In future, it will be treated as `np.float64 == np.dtype(float).type`.\n",
      "  from ._conv import register_converters as _register_converters\n",
      "Using TensorFlow backend.\n"
     ]
    },
    {
     "name": "stdout",
     "output_type": "stream",
     "text": [
      "Start loading data.\n",
      "Data has been loaded.\n",
      "Start training the model.\n"
     ]
    },
    {
     "name": "stderr",
     "output_type": "stream",
     "text": [
      "C:\\Users\\COEGIN\\Anaconda3\\envs\\tensorflow\\lib\\site-packages\\sklearn\\model_selection\\_split.py:2026: FutureWarning: From version 0.21, test_size will always complement train_size unless both are specified.\n",
      "  FutureWarning)\n",
      "[Parallel(n_jobs=4)]: Done  42 tasks      | elapsed:    3.7s\n",
      "[Parallel(n_jobs=4)]: Done 192 tasks      | elapsed:   15.6s\n",
      "[Parallel(n_jobs=4)]: Done 442 tasks      | elapsed:   36.7s\n",
      "[Parallel(n_jobs=4)]: Done 792 tasks      | elapsed:  1.1min\n",
      "[Parallel(n_jobs=4)]: Done 1242 tasks      | elapsed:  1.7min\n",
      "[Parallel(n_jobs=4)]: Done 1792 tasks      | elapsed:  2.5min\n",
      "[Parallel(n_jobs=4)]: Done 2000 out of 2000 | elapsed:  2.8min finished\n"
     ]
    },
    {
     "name": "stdout",
     "output_type": "stream",
     "text": [
      "Model created.\n",
      "Calculating accuracy.\n"
     ]
    },
    {
     "name": "stderr",
     "output_type": "stream",
     "text": [
      "[Parallel(n_jobs=4)]: Done  42 tasks      | elapsed:    0.4s\n",
      "[Parallel(n_jobs=4)]: Done 192 tasks      | elapsed:    0.5s\n",
      "[Parallel(n_jobs=4)]: Done 442 tasks      | elapsed:    0.7s\n",
      "[Parallel(n_jobs=4)]: Done 792 tasks      | elapsed:    1.0s\n",
      "[Parallel(n_jobs=4)]: Done 1242 tasks      | elapsed:    1.4s\n",
      "[Parallel(n_jobs=4)]: Done 1792 tasks      | elapsed:    1.8s\n",
      "[Parallel(n_jobs=4)]: Done 2000 out of 2000 | elapsed:    2.0s finished\n"
     ]
    },
    {
     "name": "stdout",
     "output_type": "stream",
     "text": [
      "Test accuracy:  0.7210119465917076\n"
     ]
    }
   ],
   "source": [
    "from sklearn.ensemble import RandomForestClassifier\n",
    "from sklearn.metrics import accuracy_score\n",
    "from sklearn.model_selection import train_test_split\n",
    "\n",
    "import helpers\n",
    "\n",
    "estimators = 2000\n",
    "features = 50\n",
    "# CPU cores for running the RandomForestClassifier.\n",
    "cpu_cores = 4\n",
    "\n",
    "print('Start loading data.')\n",
    "files, labels = helpers.load_chars74k_data()\n",
    "X, y = helpers.create_dataset(files, labels, with_denoising=True)\n",
    "print('Data has been loaded.')\n",
    "\n",
    "x_train, x_test, y_train, y_test = train_test_split(X, y, random_state=2, train_size=0.8)\n",
    "\n",
    "# Normalizing images.\n",
    "x_train = x_train.astype('float32')\n",
    "x_test = x_test.astype('float32')\n",
    "x_train /= 255\n",
    "x_test /= 255\n",
    "\n",
    "print('Start training the model.')\n",
    "model = RandomForestClassifier(n_estimators=estimators, max_features=features, verbose=True, n_jobs=cpu_cores)\n",
    "model.fit(x_train, y_train)\n",
    "print('Model created.')\n",
    "\n",
    "print('Calculating accuracy.')\n",
    "pred_test = model.predict(x_test)\n",
    "print('Test accuracy: ', accuracy_score(y_test, pred_test))\n"
   ]
  },
  {
   "cell_type": "code",
   "execution_count": null,
   "metadata": {},
   "outputs": [],
   "source": []
  }
 ],
 "metadata": {
  "kernelspec": {
   "display_name": "Python 3",
   "language": "python",
   "name": "python3"
  },
  "language_info": {
   "codemirror_mode": {
    "name": "ipython",
    "version": 3
   },
   "file_extension": ".py",
   "mimetype": "text/x-python",
   "name": "python",
   "nbconvert_exporter": "python",
   "pygments_lexer": "ipython3",
   "version": "3.5.5"
  }
 },
 "nbformat": 4,
 "nbformat_minor": 2
}

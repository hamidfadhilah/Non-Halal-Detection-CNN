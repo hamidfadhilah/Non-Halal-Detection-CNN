{
 "cells": [
  {
   "cell_type": "code",
   "execution_count": 64,
   "metadata": {},
   "outputs": [
    {
     "name": "stdout",
     "output_type": "stream",
     "text": [
      "Loaded Model from disk\n"
     ]
    },
    {
     "name": "stderr",
     "output_type": "stream",
     "text": [
      "C:\\Users\\COEGIN\\Anaconda3\\envs\\tensorflow\\lib\\site-packages\\ipykernel_launcher.py:30: DeprecationWarning: `imresize` is deprecated!\n",
      "`imresize` is deprecated in SciPy 1.0.0, and will be removed in 1.2.0.\n",
      "Use ``skimage.transform.resize`` instead.\n"
     ]
    },
    {
     "name": "stdout",
     "output_type": "stream",
     "text": [
      "[23]\n",
      "[[0.12193865 0.01363505 0.03253501 0.00333583 0.00094991 0.00111741\n",
      "  0.00343829 0.02136581 0.00320886 0.0030467  0.02200899 0.00398001\n",
      "  0.00655213 0.00278748 0.00690881 0.0251913  0.01240278 0.0025252\n",
      "  0.06050749 0.00357584 0.00063504 0.01250351 0.00163364 0.26094726\n",
      "  0.03008298 0.05135195 0.06098864 0.16538167 0.0015657  0.01135262\n",
      "  0.0006197  0.00060161 0.01455082 0.02648866 0.00248307 0.00780163]] []\n"
     ]
    },
    {
     "data": {
      "image/png": "[encoded data removed]",
      "text/plain": [
       "<Figure size 432x288 with 1 Axes>"
      ]
     },
     "metadata": {},
     "output_type": "display_data"
    }
   ],
   "source": [
    "from collections import Counter\n",
    "\n",
    "import numpy as np\n",
    "import keras.models\n",
    "from keras.models import model_from_json\n",
    "from scipy.misc import imread, imresize,imshow\n",
    "import matplotlib.pyplot as plt\n",
    "import matplotlib.image as mpimg\n",
    "from PIL import Image\n",
    "%matplotlib inline\n",
    "import helpers\n",
    "\n",
    "json_file = open('model.json','r')\n",
    "loaded_model_json = json_file.read()\n",
    "json_file.close()\n",
    "loaded_model = model_from_json(loaded_model_json)\n",
    "#load woeights into new model\n",
    "loaded_model.load_weights(\"model.h5\")\n",
    "print(\"Loaded Model from disk\")\n",
    "\n",
    "#compile and evaluate loaded model\n",
    "loaded_model.compile(loss=keras.losses.categorical_crossentropy,\n",
    "              optimizer=keras.optimizers.Adadelta(),\n",
    "              metrics=['accuracy'])\n",
    "# loss,accuracy = loaded.model.evaluate(X_test,y_test)\n",
    "# print('loss:', loss)\n",
    "# print('accuracy:', accuracy)\n",
    "x = Image.open('testgray/character160.png')\n",
    "x = np.invert(x)\n",
    "x = imresize(x,(20,20))\n",
    "plt.imshow(x)\n",
    "data = np.asarray(x)\n",
    "# x = x.convert('L')\n",
    "x = x.reshape(1,20,20,1)\n",
    "\n",
    "\n",
    "out = loaded_model.predict(x)\n",
    "value_list1 = []\n",
    "\n",
    "for pred in out:\n",
    "    i = 0\n",
    "    for value in pred:\n",
    "        if value > 0.9:\n",
    "            value_list1.append(helpers.num_to_char(i))\n",
    "\n",
    "        i += 1\n",
    "        \n",
    "print((np.argmax(out,axis=1)))\n",
    "print(out,value_list1)\n",
    "# print(data)"
   ]
  },
  {
   "cell_type": "code",
   "execution_count": null,
   "metadata": {},
   "outputs": [],
   "source": []
  }
 ],
 "metadata": {
  "kernelspec": {
   "display_name": "Python 3",
   "language": "python",
   "name": "python3"
  },
  "language_info": {
   "codemirror_mode": {
    "name": "ipython",
    "version": 3
   },
   "file_extension": ".py",
   "mimetype": "text/x-python",
   "name": "python",
   "nbconvert_exporter": "python",
   "pygments_lexer": "ipython3",
   "version": "3.5.5"
  }
 },
 "nbformat": 4,
 "nbformat_minor": 2
}

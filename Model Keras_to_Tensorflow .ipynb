{
 "cells": [
  {
   "cell_type": "code",
   "execution_count": 1,
   "metadata": {},
   "outputs": [
    {
     "name": "stderr",
     "output_type": "stream",
     "text": [
      "C:\\Users\\COEGIN\\Anaconda3\\envs\\tensorflow\\lib\\site-packages\\h5py\\__init__.py:36: FutureWarning: Conversion of the second argument of issubdtype from `float` to `np.floating` is deprecated. In future, it will be treated as `np.float64 == np.dtype(float).type`.\n",
      "  from ._conv import register_converters as _register_converters\n",
      "Using TensorFlow backend.\n"
     ]
    },
    {
     "name": "stdout",
     "output_type": "stream",
     "text": [
      "WARNING:tensorflow:Variable *= will be deprecated. Use variable.assign_mul if you want assignment to the variable value or 'x = x * y' if you want a new python Tensor object.\n",
      "output nodes names are:  ['output_node0', 'output_node1', 'output_node2', 'output_node3']\n",
      "INFO:tensorflow:Froze 10 variables.\n",
      "Converted 10 variables to const ops.\n",
      "saved the constant graph (ready for inference) at:  model/modelrev1.pb\n"
     ]
    }
   ],
   "source": [
    "# This was created with @warptime's help. Thank you!\n",
    "\n",
    "\n",
    "\n",
    "from tensorflow.python.framework import graph_util\n",
    "\n",
    "from tensorflow.python.framework import graph_io\n",
    "\n",
    "from keras.models import load_model\n",
    "\n",
    "from keras import backend as K\n",
    "\n",
    "import os\n",
    "import tensorflow as tf\n",
    "import os.path as osp\n",
    "\n",
    "\n",
    "\n",
    "# model = load_model(path_to_model)\n",
    "\n",
    "model = load_model(\"model/modelchars28.h5\")\n",
    "\n",
    "nb_classes = 4 # The number of output nodes in the model\n",
    "\n",
    "prefix_output_node_names_of_final_network = 'output_node'\n",
    "\n",
    "\n",
    "\n",
    "K.set_learning_phase(0)\n",
    "\n",
    "\n",
    "\n",
    "pred = [None]*nb_classes\n",
    "\n",
    "pred_node_names = [None]*nb_classes\n",
    "\n",
    "for i in range(nb_classes):\n",
    "\n",
    "    pred_node_names[i] = prefix_output_node_names_of_final_network+str(i)\n",
    "\n",
    "    pred[i] = tf.identity(model.output[i], name=pred_node_names[i])\n",
    "\n",
    "print('output nodes names are: ', pred_node_names)\n",
    "\n",
    "\n",
    "\n",
    "sess = K.get_session()\n",
    "\n",
    "output_fld = 'model/'\n",
    "\n",
    "# if not os.path.isdir(output_fld):\n",
    "\n",
    "#     os.mkdir(output_fld)\n",
    "\n",
    "output_graph_name = 'modelrev1' + '.pb'\n",
    "\n",
    "output_graph_suffix = '_inference'\n",
    "\n",
    "\n",
    "\n",
    "constant_graph = graph_util.convert_variables_to_constants(sess, sess.graph.as_graph_def(), pred_node_names)\n",
    "\n",
    "graph_io.write_graph(constant_graph, output_fld, output_graph_name, as_text=False)\n",
    "\n",
    "print('saved the constant graph (ready for inference) at: ', osp.join(output_fld, output_graph_name))"
   ]
  },
  {
   "cell_type": "code",
   "execution_count": null,
   "metadata": {},
   "outputs": [],
   "source": []
  }
 ],
 "metadata": {
  "kernelspec": {
   "display_name": "Python 3",
   "language": "python",
   "name": "python3"
  },
  "language_info": {
   "codemirror_mode": {
    "name": "ipython",
    "version": 3
   },
   "file_extension": ".py",
   "mimetype": "text/x-python",
   "name": "python",
   "nbconvert_exporter": "python",
   "pygments_lexer": "ipython3",
   "version": "3.5.5"
  }
 },
 "nbformat": 4,
 "nbformat_minor": 2
}
